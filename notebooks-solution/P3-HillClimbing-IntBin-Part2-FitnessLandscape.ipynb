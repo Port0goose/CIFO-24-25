{
 "cells": [
  {
   "cell_type": "code",
   "execution_count": 1,
   "metadata": {},
   "outputs": [],
   "source": [
    "import sys\n",
    "sys.path.append('..')"
   ]
  },
  {
   "cell_type": "code",
   "execution_count": 2,
   "metadata": {},
   "outputs": [],
   "source": [
    "from copy import deepcopy\n",
    "from random import randint\n",
    "\n",
    "from library.solution import Solution\n",
    "from library.problems.int_bin import IntBinSolution\n",
    "from library.algorithms.hill_climbing import hill_climbing"
   ]
  },
  {
   "cell_type": "markdown",
   "metadata": {},
   "source": [
    "## Solving IntBin with Hill Climbing - Part 2\n",
    "\n",
    "To solve the IntBin problem using Hill Climbing, we need to define how to navigate the solution space. In hill climbing, the search space is navigated with the concept of neighborhood.\n",
    "\n",
    "The algorithm requires the solution to have a `get_neighbors()` method. Therefore, we can **extend** the `IntBinSolution` and create a `IntBinHillClimbingSolution` that implements the `get_neighbors()` method.\n",
    "\n",
    "![IntBin Hill Climbing Solution Inheritance](images/intbin-hillclimbing-solution.png)\n",
    "\n",
    "There are two options to get the neighbors of a solution:\n",
    "- Option 1 - Integer neighborhood: Each integer x has at most two neighbors: x-1 and x+1, except for boundaries (1 and 15).\n",
    "- Option 2 - Bit flip neighborhood: Each binary representation of an integer x has as neighbors any other binary with a bit flipped.\n",
    "\n",
    "In the previous notebook, we implemented Option 1 and observed that starting from different random initial solutions led to different final solutions, not always reaching the global optimum (1111 in binary).\n",
    "\n",
    "Today, we’ll redefine the neighborhood using Option 2 – Bit Flip Neighborhood - to analyze how it impacts the search process."
   ]
  },
  {
   "cell_type": "markdown",
   "metadata": {},
   "source": [
    "#### Option 2 - Bit flip neighborhood: Each binary representation of an integer x has as neighbors any other binary with a bit flipped.\n",
    "\n",
    "Let's create a `IntBin_BitFlip_HillClimbingSolution` class that inherits from `IntBinSolution` and implements the `get_neighbors()` method."
   ]
  },
  {
   "cell_type": "code",
   "execution_count": 3,
   "metadata": {},
   "outputs": [],
   "source": [
    "class IntBin_BitFlip_HillClimbingSolution(IntBinSolution):\n",
    "    def get_neighbors(self):\n",
    "        neighbors = []\n",
    "        # Convert binary string to list of bits\n",
    "        repr_list = list(self.repr)\n",
    "\n",
    "        # Bit flip\n",
    "        for idx, digit in enumerate(repr_list):\n",
    "            neighbor_list_repr = deepcopy(repr_list)\n",
    "            if digit == '1':\n",
    "                neighbor_list_repr[idx] = '0'\n",
    "            elif digit == '0':\n",
    "                neighbor_list_repr[idx] = '1'\n",
    "            \n",
    "            # Transform back to string\n",
    "            neighbor_repr = \"\".join(neighbor_list_repr)\n",
    "            neighbors.append(IntBin_BitFlip_HillClimbingSolution(neighbor_repr))\n",
    "\n",
    "        return neighbors"
   ]
  },
  {
   "cell_type": "markdown",
   "metadata": {},
   "source": [
    "Let's test it"
   ]
  },
  {
   "cell_type": "code",
   "execution_count": 4,
   "metadata": {},
   "outputs": [
    {
     "name": "stdout",
     "output_type": "stream",
     "text": [
      "Solution 1011\n",
      "Neighbors:\n",
      "0011\n",
      "1111\n",
      "1001\n",
      "1010\n"
     ]
    }
   ],
   "source": [
    "# Initialize random solution\n",
    "solution = IntBin_BitFlip_HillClimbingSolution('1011')\n",
    "print('Solution', solution)\n",
    "\n",
    "neighbors = solution.get_neighbors()\n",
    "print('Neighbors:')\n",
    "for neighbor in neighbors:\n",
    "    print(neighbor)"
   ]
  },
  {
   "cell_type": "markdown",
   "metadata": {},
   "source": [
    "And finally apply the hill climbing algorithm by passing it an intial random solution"
   ]
  },
  {
   "cell_type": "code",
   "execution_count": 5,
   "metadata": {},
   "outputs": [
    {
     "name": "stdout",
     "output_type": "stream",
     "text": [
      "Current solution: 0011 with fitness 2\n",
      "Neighbor: 1011 with fitness 3\n",
      "Neighbor: 0111 with fitness 3\n",
      "Neighbor: 0001 with fitness 1\n",
      "Neighbor: 0010 with fitness 1\n",
      "Current solution: 0111 with fitness 3\n",
      "Neighbor: 1111 with fitness 4\n",
      "Neighbor: 0011 with fitness 2\n",
      "Neighbor: 0101 with fitness 2\n",
      "Neighbor: 0110 with fitness 2\n",
      "Current solution: 1111 with fitness 4\n",
      "Neighbor: 0111 with fitness 3\n",
      "Neighbor: 1011 with fitness 3\n",
      "Neighbor: 1101 with fitness 3\n",
      "Neighbor: 1110 with fitness 3\n",
      "Best solution 1111\n"
     ]
    }
   ],
   "source": [
    "initial_solution = IntBin_BitFlip_HillClimbingSolution()\n",
    "best_solution = hill_climbing(initial_solution, maximization=True, verbose=True)\n",
    "\n",
    "print('Best solution', best_solution)"
   ]
  },
  {
   "cell_type": "markdown",
   "metadata": {},
   "source": [
    "Let's see if the final solution changes with multiple runs"
   ]
  },
  {
   "cell_type": "code",
   "execution_count": 6,
   "metadata": {},
   "outputs": [
    {
     "name": "stdout",
     "output_type": "stream",
     "text": [
      "1111\n",
      "1111\n",
      "1111\n",
      "1111\n",
      "1111\n",
      "1111\n",
      "1111\n",
      "1111\n",
      "1111\n",
      "1111\n"
     ]
    }
   ],
   "source": [
    "for _ in range(10):\n",
    "    initial_solution = IntBin_BitFlip_HillClimbingSolution()\n",
    "    print(hill_climbing(initial_solution, maximization=True))"
   ]
  },
  {
   "cell_type": "markdown",
   "metadata": {},
   "source": [
    "Different runs always result in the same final best solution. And this solution is actually the global optimum! Why does this happen?\n",
    "\n",
    "In Option 1, the neighborhood of an integer is defined as the integers immediately below and above it. This approach can lead to local optima, as the search is limited to neighboring integers.\n",
    "\n",
    "However, when we define the neighborhood of an integer as the integers that can be obtained by flipping a bit in its binary representation, every solution has at least one neighbor that has one more '1', unless the solution is the number 15 (represented as 1111 in binary), which is the global optimum. This means that there are no local optima in the fitness landscape because it is always possible to improve.\n",
    "\n",
    "The next section will explain this concept in more detail, with illustrative examples."
   ]
  },
  {
   "cell_type": "markdown",
   "metadata": {},
   "source": [
    "The final implementations of `IntBinSolution` and `IntBinHillClimbingSolution` can be found in `library/problems/int_bin.py`.\n",
    "\n",
    "`IntBinHillClimbingSolution` corresponds to `IntBin_BitFlip_HillClimbingSolution` since it implements the best way of exploring the search space via the neighborhood."
   ]
  },
  {
   "cell_type": "markdown",
   "metadata": {},
   "source": [
    "# Importance of fitness landscape\n",
    "\n",
    "We've observed that when solving the IntBin problem using hill climbing, defining the neighborhood of a solution as the integers immediately below and above it (Option 1) often leads to getting stuck in local optima. In contrast, when we define the neighborhood as the integers obtained by flipping a single bit in the binary representation (Option 2), we consistently reach the global optimum.\n",
    "\n",
    "To understand why this happens, it is useful to think of the fitness landscape.\n",
    "\n",
    "A **fitness landscape  is a visual intuition of the difficulty of the algorithm in solving the problem**. It represents how solutions relate to their fitness and how they relate to each other via the **neighborhood**. Each solution is a point in the landscape, with its **height** indicating how good it is.\n",
    "\n",
    "Visualizing a fitness landscape requires:\n",
    "1. A well-defined search space - The set of all possible solutions.\n",
    "2. A fitness function - A way to evaluate each solution.\n",
    "3. A neighborhood structure - Defines how solutions are connected.\n",
    "4. A way to position/order solutions - This can be challenging in high-dimensional spaces.\n",
    "\n",
    "Generally, it is very difficult to draw a fitness landscape because the search space is usually huge, the solutions' representation is high dimensional, and the neighborhood of solutions is also high dimensional.\n",
    "\n",
    "We can only visualize up to 3 dimensions. And there is always one dimension (the height), that is reserved to visualizing the fitness. This height will tell us how good or bad a solution is.\n",
    "\n",
    "### 2D fitness landscapes\n",
    "\n",
    "![Fitness landscape 2D](images/fitness-landscape.jpeg)\n",
    "\n",
    "In a 2D landscape, solutions are positioned on the x-axis, and fitness is represented on the y-axis. Each solution has 2 neighbors: the solution showing before and the solution showing after on the x-axis.\n",
    "\n",
    "Using 2 dimensions, we can visualize the fitness landscape of any problem where solutions have these properties:\n",
    "1. **A 1D Search Space** - Solutions must be representable as a single value.\n",
    "2. **Neighboring solutions must be adjacent in a 1D space** – Each solution should have neighboring solutions that can be placed adjacent to it in 1D space (e.g., integers, real numbers, sequences with a well-defined order).\n",
    "\n",
    "\n",
    "### 3D fitness landscapes\n",
    "\n",
    "![Fitness landscape #D](images/fitness-landscape-3d.png)\n",
    "\n",
    "A 3D fitness landscape represents problems where solutions have a **natural 2D structure** (x and y axes), and fitness can be plotted as height (z-axis).\n",
    "\n",
    "To be visualizable in 3D, a problem must have:\n",
    "1. **A 2D Search Space**: Solutions must be representable as pairs (x, y) (e.g, continuous arrays or problems with two main features)\n",
    "2. **Neighboring solutions must be adjacent in a 2D plane**: Each solution should have neighboring solutions that can be placed adjacent to it in 2D space (e.g., moving left/right or up/down).\n"
   ]
  },
  {
   "cell_type": "markdown",
   "metadata": {},
   "source": [
    "### IntBin Fitness landscape\n",
    "\n",
    "Based on the above explanation, we can determine whether the **fitness landscape of IntBin solutions** can be visualized, **depending on how we define the neighborhood structure**.\n",
    "\n",
    "#### Option 1 - Integer Neighborhood (Visualizable in 2D)\n",
    "\n",
    "How can we visualize a 2D fitness landscape?\n",
    "- 1D Search Space: Each solution is an integer in the x-axis ✅\n",
    "- Neighbors are adjacent in the x-axis: the integers below and above.  ✅\n",
    "\n",
    "#### Option 2 - Bit Flip Neighborhood (Not Visualizable in 2D or 3D)\n",
    "\n",
    "Why can't we visualize in a 2D landscape? Let's check the properties:\n",
    "- 1D Search Space: Each solution is an integer in the x-axis ✅\n",
    "- Neighboring solutions should be adjacent in a 1D space: Each solution has 4 neighbors. Besides not being adjacent on the x-axis, they are 4 neighbors, wich would make it impossible to even arrane them in the x-axis ❌\n",
    "\n",
    "Why can't we visualize in a 3D landscape? Let's check the properties:\n",
    "- 2D Search Space: Each solution is an integer / its binary representation (4 bits = 4 features) ❌\n",
    "- Neighboring solutions should be adjacent in a 2D space: Sinze solutions can not be represented in a 2D space, neither can their neighborhood. ❌\n",
    "\n",
    "Even though we cannot visualize the fitness landscape with the Bit Flip neighborhood, we can still infer its properties: the fitness landscape is smooth and has no local optima.\n",
    "\n",
    "#### Conclusions\n",
    "\n",
    "The key takeway is that the way we define the neighborhood influences the fitnes landscape. **Since many optimization algorithms - such as hill climbing - navigate the search space using neighborhood structures, their sucess is super influenced by the properties of the fitness landscape.**\n",
    "\n",
    "If we define the neighborhood using Option 1 we only have 2 neighbors, each with a certain fitness value. Some solutions have neighbors with better fitness, while others don't, leading to local optima. As a result, the fitness landscape is rugged, with multiple local optima that can trap optimization algorithms.\n",
    "\n",
    "On the other hand, if we define it using Option 2, we have 4 neighbors, each with a certain fitness value. For every solution, there is at least one neighbor with better fitness. This means that the fitness landscape is smooth, and as no local optima, meaning hill climbing will always reach the global optimum."
   ]
  },
  {
   "cell_type": "markdown",
   "metadata": {},
   "source": [
    "# Visualizing fitness landscapes\n",
    "\n",
    "To better understand how to visualize a fitness landscape, let’s introduce a new optimization problem, IntMax, where each solution can be represented in 1D search space, and has exactly two neighbors, just like IntBin with integer neighborhood."
   ]
  },
  {
   "cell_type": "markdown",
   "metadata": {},
   "source": [
    "### IntMax Optimization Problem\n",
    "\n",
    "**Description:** The IntMax problem consists of finding the biggest integer between 1 and some N\n",
    "\n",
    "**Search space:** Integers from 1 to 15.\n",
    "\n",
    "**Fitness function:** f(x)=x (i.e., the number itself).\n",
    "\n",
    "**Goal:** Maximize f(x)."
   ]
  },
  {
   "cell_type": "markdown",
   "metadata": {},
   "source": [
    "Let's start by defining a IntMax solution"
   ]
  },
  {
   "cell_type": "code",
   "execution_count": 7,
   "metadata": {},
   "outputs": [],
   "source": [
    "class IntMaxSolution(Solution):\n",
    "    def __init__(self, repr=None):\n",
    "        super().__init__(repr=repr)\n",
    "    \n",
    "    def fitness(self):\n",
    "        return self.repr\n",
    "    \n",
    "    def random_initial_representation(self):\n",
    "        return randint(1, 15)"
   ]
  },
  {
   "cell_type": "markdown",
   "metadata": {},
   "source": [
    "Let's test it"
   ]
  },
  {
   "cell_type": "code",
   "execution_count": 8,
   "metadata": {},
   "outputs": [
    {
     "name": "stdout",
     "output_type": "stream",
     "text": [
      "Solution 3 with fitness 3\n"
     ]
    }
   ],
   "source": [
    "solution = IntMaxSolution(3)\n",
    "\n",
    "print(f'Solution {solution} with fitness {solution.fitness()}')"
   ]
  },
  {
   "cell_type": "markdown",
   "metadata": {},
   "source": [
    "#### Solving IntMax with HillClimbing"
   ]
  },
  {
   "cell_type": "markdown",
   "metadata": {},
   "source": [
    "To use hill climbing to solve IntMax we need to have solutions that implement the `get_neighbors` method. Let's implement that."
   ]
  },
  {
   "cell_type": "code",
   "execution_count": 9,
   "metadata": {},
   "outputs": [],
   "source": [
    "class IntMaxHillClimbingSolution(IntMaxSolution):\n",
    "    def get_neighbors(self):\n",
    "        if self.repr == 1:\n",
    "            return [IntMaxHillClimbingSolution(2)]\n",
    "        elif self.repr == 15:\n",
    "            return [IntMaxHillClimbingSolution(14)]\n",
    "        else:\n",
    "            return [IntMaxHillClimbingSolution(self.repr-1), IntMaxHillClimbingSolution(self.repr+1)]"
   ]
  },
  {
   "cell_type": "markdown",
   "metadata": {},
   "source": [
    "And test it:"
   ]
  },
  {
   "cell_type": "code",
   "execution_count": 10,
   "metadata": {},
   "outputs": [
    {
     "name": "stdout",
     "output_type": "stream",
     "text": [
      "Solution 3\n",
      "Neighbors:\n",
      "2\n",
      "4\n"
     ]
    }
   ],
   "source": [
    "# Initialize random solution\n",
    "solution = IntMaxHillClimbingSolution(3)\n",
    "print('Solution', solution)\n",
    "\n",
    "neighbors = solution.get_neighbors()\n",
    "print('Neighbors:')\n",
    "for neighbor in neighbors:\n",
    "    print(neighbor)"
   ]
  },
  {
   "cell_type": "markdown",
   "metadata": {},
   "source": [
    "We can now apply hill climbing to the IntMax problem by passing it an initial solution."
   ]
  },
  {
   "cell_type": "code",
   "execution_count": 11,
   "metadata": {},
   "outputs": [
    {
     "name": "stdout",
     "output_type": "stream",
     "text": [
      "Current solution: 15 with fitness 15\n",
      "Neighbor: 14 with fitness 14\n",
      "Best solution 15\n"
     ]
    }
   ],
   "source": [
    "initial_solution = IntMaxHillClimbingSolution()\n",
    "best_solution = hill_climbing(initial_solution, maximization=True, verbose=True)\n",
    "\n",
    "print('Best solution', best_solution)"
   ]
  },
  {
   "cell_type": "markdown",
   "metadata": {},
   "source": [
    "Let's run it multiple times to see what happens"
   ]
  },
  {
   "cell_type": "code",
   "execution_count": 12,
   "metadata": {},
   "outputs": [
    {
     "name": "stdout",
     "output_type": "stream",
     "text": [
      "15\n",
      "15\n",
      "15\n",
      "15\n",
      "15\n",
      "15\n",
      "15\n",
      "15\n",
      "15\n",
      "15\n"
     ]
    }
   ],
   "source": [
    "for _ in range(10):\n",
    "    initial_solution = IntMaxHillClimbingSolution()\n",
    "    print(hill_climbing(initial_solution, maximization=True))"
   ]
  },
  {
   "cell_type": "markdown",
   "metadata": {},
   "source": [
    "We always reach the same final solution, and this solution is the global optimum! Just like in IntBin with neighborhood Option 2 - Bit Flip Neighborhood."
   ]
  },
  {
   "cell_type": "markdown",
   "metadata": {},
   "source": [
    "### Recall IntBin Solution"
   ]
  },
  {
   "cell_type": "markdown",
   "metadata": {},
   "source": [
    "In the previous notebook, we implemented the `IntBin_IntNeighborhood_HillClimbingSolution` class, which defines the `get_neighbors()` method. This method defined a solution’s neighbors as the integers immediately below and above its current value."
   ]
  },
  {
   "cell_type": "code",
   "execution_count": 13,
   "metadata": {},
   "outputs": [],
   "source": [
    "class IntBin_IntNeighborhood_HillClimbingSolution(IntBinSolution):\n",
    "    def get_neighbors(self):\n",
    "        # Convert binary string representation into integer\n",
    "        int_repr = int(self.repr, 2)\n",
    "\n",
    "        if int_repr == 1:\n",
    "            return [IntBin_IntNeighborhood_HillClimbingSolution(format(2, '04b'))]\n",
    "        elif int_repr == 15:\n",
    "            return [IntBin_IntNeighborhood_HillClimbingSolution(format(14, '04b'))]\n",
    "        else:\n",
    "            return [IntBin_IntNeighborhood_HillClimbingSolution(format(int_repr-1, '04b')), IntBin_IntNeighborhood_HillClimbingSolution(format(int_repr+1, '04b'))]"
   ]
  },
  {
   "cell_type": "markdown",
   "metadata": {},
   "source": [
    "### Visualizing 2D fitness landscapes"
   ]
  },
  {
   "cell_type": "markdown",
   "metadata": {},
   "source": [
    "Let's create a function to visualize 2D landscapes"
   ]
  },
  {
   "cell_type": "code",
   "execution_count": 14,
   "metadata": {},
   "outputs": [],
   "source": [
    "import matplotlib.pyplot as plt\n",
    "import seaborn as sns\n",
    "\n",
    "def draw_2D_fitness_landscape(ordered_solution_space):\n",
    "    fitness_values = [solution.fitness() for solution in ordered_solution_space]\n",
    "\n",
    "    x_labels = [repr(solution) for solution in ordered_solution_space]\n",
    "\n",
    "    sns.lineplot(x=x_labels, y=fitness_values)\n",
    "\n",
    "    plt.ylabel('Fitness')\n",
    "    plt.xlabel('Solutions')\n",
    "    plt.show()"
   ]
  },
  {
   "cell_type": "code",
   "execution_count": 15,
   "metadata": {},
   "outputs": [
    {
     "data": {
      "image/png": "[encoded data removed]",
      "text/plain": [
       "<Figure size 640x480 with 1 Axes>"
      ]
     },
     "metadata": {},
     "output_type": "display_data"
    }
   ],
   "source": [
    "ordered_solution_space = [IntBinSolution(format(i, '04b')) for i in range(1, 16)]\n",
    "\n",
    "draw_2D_fitness_landscape(ordered_solution_space)"
   ]
  },
  {
   "cell_type": "markdown",
   "metadata": {},
   "source": [
    "We can see that the fitness landscape of IntBin is rugged and full of local optima. Since Hill Climbing is a greedy algorithm that always seeks to improve the current solution, it often gets trapped in these local optima and fails to reach the global optimum (1111)."
   ]
  },
  {
   "cell_type": "code",
   "execution_count": 16,
   "metadata": {},
   "outputs": [
    {
     "data": {
      "image/png": "[encoded data removed]",
      "text/plain": [
       "<Figure size 640x480 with 1 Axes>"
      ]
     },
     "metadata": {},
     "output_type": "display_data"
    }
   ],
   "source": [
    "ordered_solution_space = [IntMaxSolution(i) for i in range(1, 16)]\n",
    "\n",
    "draw_2D_fitness_landscape(ordered_solution_space)"
   ]
  },
  {
   "cell_type": "markdown",
   "metadata": {},
   "source": [
    "In IntMax, there is always a neighbor solution with a better fitness value that the current solution. This is similar to what occurred when we switched from IntBin Option 1 to Option 2! By doing so, we transform the fitness landscape into a unimodal one, where the only optimum is the global optimum, and there are no local optima."
   ]
  },
  {
   "cell_type": "markdown",
   "metadata": {},
   "source": [
    "The final implementations of `IntMaxSolution` and `IntMaxHillClimbingSolution` can be found in `library/problems/int_max.py`"
   ]
  }
 ],
 "metadata": {
  "kernelspec": {
   "display_name": "venv",
   "language": "python",
   "name": "python3"
  },
  "language_info": {
   "codemirror_mode": {
    "name": "ipython",
    "version": 3
   },
   "file_extension": ".py",
   "mimetype": "text/x-python",
   "name": "python",
   "nbconvert_exporter": "python",
   "pygments_lexer": "ipython3",
   "version": "3.13.2"
  }
 },
 "nbformat": 4,
 "nbformat_minor": 2
}
